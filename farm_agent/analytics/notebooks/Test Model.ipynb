{
 "cells": [
  {
   "cell_type": "code",
   "execution_count": 75,
   "id": "1c21bd6b-7b48-41ef-8096-660fda8090d6",
   "metadata": {},
   "outputs": [],
   "source": [
    "from torchvision import transforms\n",
    "import numpy as np\n",
    "import os\n",
    "from PIL import Image\n",
    "import torch\n",
    "import os\n",
    "from torch import nn\n",
    "import torch.nn.functional as F\n",
    "import random"
   ]
  },
  {
   "cell_type": "code",
   "execution_count": 16,
   "id": "633781c2-22a2-4a95-9147-178affb76db6",
   "metadata": {},
   "outputs": [],
   "source": [
    "data_dir: str = '../data'\n",
    "model_dir: str = '../models'"
   ]
  },
  {
   "cell_type": "code",
   "execution_count": 17,
   "id": "4b411332-3a63-4976-b523-2c7e99295282",
   "metadata": {},
   "outputs": [],
   "source": [
    "class MaizeNet(nn.Module):\n",
    "  def __init__(self, K) -> None:\n",
    "      super(MaizeNet, self).__init__()\n",
    "\n",
    "      self.conv_layers = nn.Sequential(\n",
    "          # convolution 1\n",
    "          nn.Conv2d(in_channels=3, out_channels=32, kernel_size=3, padding=1),\n",
    "          nn.ReLU(),\n",
    "          nn.BatchNorm2d(32),\n",
    "          nn.Conv2d(in_channels=32, out_channels=32, kernel_size=3, padding=1),\n",
    "          nn.ReLU(),\n",
    "          nn.BatchNorm2d(32),\n",
    "          nn.MaxPool2d(2),\n",
    "          # Convolution 2\n",
    "          nn.Conv2d(in_channels=32, out_channels=64, kernel_size=3, padding=1),\n",
    "          nn.ReLU(),\n",
    "          nn.BatchNorm2d(64),\n",
    "          nn.Conv2d(in_channels=64, out_channels=64, kernel_size=3, padding=1),\n",
    "          nn.ReLU(),\n",
    "          nn.BatchNorm2d(64),\n",
    "          nn.MaxPool2d(2),\n",
    "          # Convolution 3\n",
    "          nn.Conv2d(in_channels=64, out_channels=128, kernel_size=3, padding=1),\n",
    "          nn.ReLU(),\n",
    "          nn.BatchNorm2d(128),\n",
    "          nn.Conv2d(in_channels=128, out_channels=128, kernel_size=3, padding=1),\n",
    "          nn.ReLU(),\n",
    "          nn.BatchNorm2d(128),\n",
    "          nn.MaxPool2d(2),\n",
    "          # Convolution 4\n",
    "          nn.Conv2d(in_channels=128, out_channels=256, kernel_size=3, padding=1),\n",
    "          nn.ReLU(),\n",
    "          nn.BatchNorm2d(256),\n",
    "          nn.Conv2d(in_channels=256, out_channels=256, kernel_size=3, padding=1),\n",
    "          nn.ReLU(),\n",
    "          nn.BatchNorm2d(256),\n",
    "          nn.MaxPool2d(2),\n",
    "      )\n",
    "\n",
    "      self.dense_layers = nn.Sequential(\n",
    "          # Dropout layer\n",
    "          nn.Dropout(0.5),\n",
    "          # first fully connected layer\n",
    "          nn.Linear(224*224, 1024),\n",
    "          # Relu activation function\n",
    "          nn.ReLU(),\n",
    "          nn.Dropout(0.4),\n",
    "          # Final output layer\n",
    "          nn.Linear(1024, K),\n",
    "      )\n",
    "\n",
    "  def forward(self, output):\n",
    "    # Convolution Layers\n",
    "    out = self.conv_layers(output)\n",
    "\n",
    "    # Flatten the layers\n",
    "    out = out.view(-1, 224*224)\n",
    "\n",
    "    # Fully connected Dense Layers\n",
    "    out = self.dense_layers(out)\n",
    "\n",
    "    return out"
   ]
  },
  {
   "cell_type": "code",
   "execution_count": 18,
   "id": "efce68a9-ced7-43d9-9846-23c095128e01",
   "metadata": {},
   "outputs": [],
   "source": [
    "def load_model(model_path: str):\n",
    "    \"\"\"Load the pytorch model.\"\"\"\n",
    "    n_classes = 4\n",
    "    maizenet = MaizeNet(n_classes)\n",
    "    maizenet.load_state_dict(torch.load(model_path, map_location=torch.device('cpu') ))\n",
    "    return maizenet"
   ]
  },
  {
   "cell_type": "code",
   "execution_count": 97,
   "id": "4bd0d4a5-8a66-4899-aec2-a1d9b9855cb0",
   "metadata": {},
   "outputs": [],
   "source": [
    "model_path: str = os.path.join(model_dir, 'maizenet_1.pkl')\n",
    "model = load_model(model_path)"
   ]
  },
  {
   "cell_type": "code",
   "execution_count": 152,
   "id": "65d36498-bf74-4bb3-ad76-2671d59cbe0f",
   "metadata": {},
   "outputs": [],
   "source": [
    "def preprocess_image(image):\n",
    "    mean = np.array([0.5, 0.5, 0.5])\n",
    "    std = np.array([0.25, 0.25, 0.25])\n",
    "    data_transform = transforms.Compose([\n",
    "            transforms.RandomResizedCrop(224), # resize and crop image to 224 x 224 pixels\n",
    "            transforms.RandomHorizontalFlip(), # flip the images horizontally\n",
    "            transforms.ToTensor(), # convert to pytorch tensor data type\n",
    "            transforms.Normalize(mean, std) # normalize the input image dataset.\n",
    "        ])\n",
    "    transformed_image = data_transform(sample_rust_image).to('cpu')\n",
    "    transformed_image = torch.unsqueeze(transformed_image, 0)\n",
    "    return transformed_image\n",
    "\n",
    "def evaluate_image(image, model=model):\n",
    "    transformed_image = preprocess_image(image)\n",
    "    labels = ['Common_Rust', 'Northern_Leaf_Blight', 'Healthy', 'Gray_Leaf_Spot']\n",
    "    model.eval()\n",
    "    prediction = F.softmax(model(transformed_image), dim = 1)\n",
    "    print(prediction.shape)\n",
    "    print(prediction)\n",
    "    print(labels)\n",
    "    data = {\n",
    "        'Common_Rust': round(float(prediction[0][0]), 4),\n",
    "        'Northern_Leaf_Blight': round(float(prediction[0][1]), 4),\n",
    "        'Healthy': round(float(prediction[0][2]), 4),\n",
    "        'Gray_Leaf_Spot': round(float(prediction[0][3]), 4)\n",
    "    }\n",
    "    prediction = prediction.argmax()\n",
    "    return labels[prediction], data"
   ]
  },
  {
   "cell_type": "code",
   "execution_count": 157,
   "id": "81f08ca3-2a0c-40d9-a8f3-511d5a80414f",
   "metadata": {},
   "outputs": [],
   "source": [
    "sample_rust_image = random.choice(os.listdir(os.path.join(data_dir, 'train', 'rust')))\n",
    "sample_rust_image = Image.open(os.path.join(data_dir, 'train', 'rust', sample_rust_image))"
   ]
  },
  {
   "cell_type": "code",
   "execution_count": 158,
   "id": "cd346c74-ef49-4f48-8c03-3941ba889079",
   "metadata": {},
   "outputs": [
    {
     "name": "stdout",
     "output_type": "stream",
     "text": [
      "torch.Size([1, 4])\n",
      "tensor([[0.3211, 0.1857, 0.2659, 0.2274]], grad_fn=<SoftmaxBackward0>)\n",
      "['Common_Rust', 'Northern_Leaf_Blight', 'Healthy', 'Gray_Leaf_Spot']\n"
     ]
    },
    {
     "data": {
      "text/plain": [
       "('Common_Rust',\n",
       " {'Common_Rust': 0.3211,\n",
       "  'Northern_Leaf_Blight': 0.1857,\n",
       "  'Healthy': 0.2659,\n",
       "  'Gray_Leaf_Spot': 0.2274})"
      ]
     },
     "execution_count": 158,
     "metadata": {},
     "output_type": "execute_result"
    }
   ],
   "source": [
    "evaluate_image(sample_rust_image)"
   ]
  },
  {
   "cell_type": "code",
   "execution_count": null,
   "id": "5d7e7bc4-e3a9-48ef-a068-455cec7ee4a9",
   "metadata": {},
   "outputs": [],
   "source": []
  }
 ],
 "metadata": {
  "kernelspec": {
   "display_name": "Python 3 (ipykernel)",
   "language": "python",
   "name": "python3"
  },
  "language_info": {
   "codemirror_mode": {
    "name": "ipython",
    "version": 3
   },
   "file_extension": ".py",
   "mimetype": "text/x-python",
   "name": "python",
   "nbconvert_exporter": "python",
   "pygments_lexer": "ipython3",
   "version": "3.10.12"
  }
 },
 "nbformat": 4,
 "nbformat_minor": 5
}
